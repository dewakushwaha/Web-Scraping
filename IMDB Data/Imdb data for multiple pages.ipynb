{
 "cells": [
  {
   "cell_type": "markdown",
   "id": "ea5cd0b2",
   "metadata": {},
   "source": [
    "### Importing the libraries"
   ]
  },
  {
   "cell_type": "code",
   "execution_count": 1,
   "id": "33d6a4be",
   "metadata": {},
   "outputs": [],
   "source": [
    "import pandas as pd\n",
    "import numpy as np\n",
    "import requests\n",
    "from bs4 import BeautifulSoup\n",
    "from time import sleep\n",
    "from random import randint"
   ]
  },
  {
   "cell_type": "code",
   "execution_count": 2,
   "id": "d4d7b647",
   "metadata": {},
   "outputs": [],
   "source": [
    "#creating an array of values and passing it in the url for dynamic webpages\n",
    "pages = np.arange(1,7885,50)"
   ]
  },
  {
   "cell_type": "code",
   "execution_count": 3,
   "id": "c87869c1",
   "metadata": {},
   "outputs": [],
   "source": [
    "#declaring the list of empty variables, So that we can append the data overall\n",
    "movie_name = []\n",
    "year = []\n",
    "time=[]\n",
    "rating=[]\n",
    "votes = []\n",
    "Genre = []\n",
    "url = 'https://www.imdb.com/search/title/?companies=co0476953'"
   ]
  },
  {
   "cell_type": "code",
   "execution_count": 4,
   "id": "7103d2ee",
   "metadata": {},
   "outputs": [],
   "source": [
    "for page in pages:\n",
    "    page = requests.get('https://www.imdb.com/search/title/?companies=co0476953&start='+str(page)+'&ref_=adv_nxt')\n",
    "    soup = BeautifulSoup(page.text, 'html.parser')\n",
    "    movie_data = soup.findAll('div', attrs = {'class': 'lister-item mode-advanced'})\n",
    "    sleep(randint(2,8))\n",
    "    for store in movie_data:\n",
    "        movie_data = soup.findAll('div', attrs = {'class': 'lister-item mode-advanced'})\n",
    "        name=store.h3.a.text\n",
    "        movie_name.append(name)\n",
    "    \n",
    "        year_of_release = store.h3.find('span', class_ = 'lister-item-year text-muted unbold').text.replace('(', '').replace(')', '').replace('– ','')\n",
    "        year.append(year_of_release)\n",
    "    \n",
    "        runtime = store.p.find('span', class_ = 'runtime').text.replace(' min', '') if store.p.find('span', class_ = 'runtime') else '***'\n",
    "        time.append(runtime)\n",
    "    \n",
    "        genre = store.p.find('span', class_='genre').text.replace('\\n','').strip() if store.p.find('span', class_='genre') else '***'\n",
    "        Genre.append(genre)\n",
    "    \n",
    "        rate = store.find('div', class_ = 'inline-block ratings-imdb-rating').text.replace('\\n', '') if store.find('div', class_ = 'inline-block ratings-imdb-rating') else '***'\n",
    "        rating.append(rate)\n",
    "    \n",
    "        value = store.find('span', attrs = {'name': 'nv'}).text if store.find_all('span', attrs = {'name': 'nv'}) else '***'\n",
    "        votes.append(value)"
   ]
  },
  {
   "cell_type": "code",
   "execution_count": 5,
   "id": "76ebc14f",
   "metadata": {},
   "outputs": [],
   "source": [
    "df = pd.DataFrame({'Name of movie': movie_name, 'Year of relase': year, 'Watchtime': time, 'Genre': Genre, 'Movie Rating': rating,'Votes': votes})"
   ]
  },
  {
   "cell_type": "code",
   "execution_count": 7,
   "id": "af48bf71",
   "metadata": {},
   "outputs": [
    {
     "name": "stdout",
     "output_type": "stream",
     "text": [
      "<class 'pandas.core.frame.DataFrame'>\n",
      "RangeIndex: 7886 entries, 0 to 7885\n",
      "Data columns (total 6 columns):\n",
      " #   Column          Non-Null Count  Dtype \n",
      "---  ------          --------------  ----- \n",
      " 0   Name of movie   7886 non-null   object\n",
      " 1   Year of relase  7886 non-null   object\n",
      " 2   Watchtime       7886 non-null   object\n",
      " 3   Genre           7886 non-null   object\n",
      " 4   Movie Rating    7886 non-null   object\n",
      " 5   Votes           7886 non-null   object\n",
      "dtypes: object(6)\n",
      "memory usage: 369.8+ KB\n"
     ]
    }
   ],
   "source": [
    "df.info()"
   ]
  },
  {
   "cell_type": "code",
   "execution_count": 10,
   "id": "c6a48264",
   "metadata": {},
   "outputs": [
    {
     "data": {
      "text/html": [
       "<div>\n",
       "<style scoped>\n",
       "    .dataframe tbody tr th:only-of-type {\n",
       "        vertical-align: middle;\n",
       "    }\n",
       "\n",
       "    .dataframe tbody tr th {\n",
       "        vertical-align: top;\n",
       "    }\n",
       "\n",
       "    .dataframe thead th {\n",
       "        text-align: right;\n",
       "    }\n",
       "</style>\n",
       "<table border=\"1\" class=\"dataframe\">\n",
       "  <thead>\n",
       "    <tr style=\"text-align: right;\">\n",
       "      <th></th>\n",
       "      <th>Name of movie</th>\n",
       "      <th>Year of relase</th>\n",
       "      <th>Watchtime</th>\n",
       "      <th>Genre</th>\n",
       "      <th>Movie Rating</th>\n",
       "      <th>Votes</th>\n",
       "    </tr>\n",
       "  </thead>\n",
       "  <tbody>\n",
       "    <tr>\n",
       "      <th>7876</th>\n",
       "      <td>Nova</td>\n",
       "      <td>1974</td>\n",
       "      <td>54</td>\n",
       "      <td>Documentary</td>\n",
       "      <td>7.8</td>\n",
       "      <td>79</td>\n",
       "    </tr>\n",
       "    <tr>\n",
       "      <th>7877</th>\n",
       "      <td>Devin</td>\n",
       "      <td>2019</td>\n",
       "      <td>***</td>\n",
       "      <td>Comedy</td>\n",
       "      <td>***</td>\n",
       "      <td>***</td>\n",
       "    </tr>\n",
       "    <tr>\n",
       "      <th>7878</th>\n",
       "      <td>Devin</td>\n",
       "      <td>2019</td>\n",
       "      <td>***</td>\n",
       "      <td>Comedy</td>\n",
       "      <td>***</td>\n",
       "      <td>***</td>\n",
       "    </tr>\n",
       "    <tr>\n",
       "      <th>7879</th>\n",
       "      <td>Devin</td>\n",
       "      <td>2019</td>\n",
       "      <td>***</td>\n",
       "      <td>Comedy</td>\n",
       "      <td>***</td>\n",
       "      <td>***</td>\n",
       "    </tr>\n",
       "    <tr>\n",
       "      <th>7880</th>\n",
       "      <td>Strange Therapy</td>\n",
       "      <td>2019</td>\n",
       "      <td>***</td>\n",
       "      <td>Comedy, Romance</td>\n",
       "      <td>9.1</td>\n",
       "      <td>9</td>\n",
       "    </tr>\n",
       "    <tr>\n",
       "      <th>7881</th>\n",
       "      <td>Strange Therapy</td>\n",
       "      <td>2019</td>\n",
       "      <td>***</td>\n",
       "      <td>Comedy, Romance</td>\n",
       "      <td>9.0</td>\n",
       "      <td>8</td>\n",
       "    </tr>\n",
       "    <tr>\n",
       "      <th>7882</th>\n",
       "      <td>Strange Therapy</td>\n",
       "      <td>2019</td>\n",
       "      <td>***</td>\n",
       "      <td>Comedy, Romance</td>\n",
       "      <td>9.0</td>\n",
       "      <td>8</td>\n",
       "    </tr>\n",
       "    <tr>\n",
       "      <th>7883</th>\n",
       "      <td>Strange Therapy</td>\n",
       "      <td>2019</td>\n",
       "      <td>***</td>\n",
       "      <td>Comedy, Romance</td>\n",
       "      <td>9.0</td>\n",
       "      <td>8</td>\n",
       "    </tr>\n",
       "    <tr>\n",
       "      <th>7884</th>\n",
       "      <td>Strange Therapy</td>\n",
       "      <td>2019</td>\n",
       "      <td>***</td>\n",
       "      <td>Comedy, Romance</td>\n",
       "      <td>9.1</td>\n",
       "      <td>9</td>\n",
       "    </tr>\n",
       "    <tr>\n",
       "      <th>7885</th>\n",
       "      <td>Strange Therapy</td>\n",
       "      <td>2019</td>\n",
       "      <td>***</td>\n",
       "      <td>Comedy, Romance</td>\n",
       "      <td>9.1</td>\n",
       "      <td>9</td>\n",
       "    </tr>\n",
       "  </tbody>\n",
       "</table>\n",
       "</div>"
      ],
      "text/plain": [
       "         Name of movie Year of relase Watchtime            Genre Movie Rating  \\\n",
       "7876              Nova           1974        54      Documentary          7.8   \n",
       "7877             Devin           2019       ***           Comedy          ***   \n",
       "7878             Devin           2019       ***           Comedy          ***   \n",
       "7879             Devin           2019       ***           Comedy          ***   \n",
       "7880   Strange Therapy           2019       ***  Comedy, Romance          9.1   \n",
       "7881   Strange Therapy           2019       ***  Comedy, Romance          9.0   \n",
       "7882   Strange Therapy           2019       ***  Comedy, Romance          9.0   \n",
       "7883   Strange Therapy           2019       ***  Comedy, Romance          9.0   \n",
       "7884   Strange Therapy           2019       ***  Comedy, Romance          9.1   \n",
       "7885   Strange Therapy           2019       ***  Comedy, Romance          9.1   \n",
       "\n",
       "     Votes  \n",
       "7876    79  \n",
       "7877   ***  \n",
       "7878   ***  \n",
       "7879   ***  \n",
       "7880     9  \n",
       "7881     8  \n",
       "7882     8  \n",
       "7883     8  \n",
       "7884     9  \n",
       "7885     9  "
      ]
     },
     "execution_count": 10,
     "metadata": {},
     "output_type": "execute_result"
    }
   ],
   "source": [
    "df.tail(10)"
   ]
  },
  {
   "cell_type": "code",
   "execution_count": 13,
   "id": "f519db05",
   "metadata": {},
   "outputs": [],
   "source": [
    "df.to_csv(\"Prime Video.csv\")"
   ]
  },
  {
   "cell_type": "code",
   "execution_count": null,
   "id": "afa799e6",
   "metadata": {},
   "outputs": [],
   "source": []
  }
 ],
 "metadata": {
  "kernelspec": {
   "display_name": "Python 3 (ipykernel)",
   "language": "python",
   "name": "python3"
  },
  "language_info": {
   "codemirror_mode": {
    "name": "ipython",
    "version": 3
   },
   "file_extension": ".py",
   "mimetype": "text/x-python",
   "name": "python",
   "nbconvert_exporter": "python",
   "pygments_lexer": "ipython3",
   "version": "3.9.7"
  }
 },
 "nbformat": 4,
 "nbformat_minor": 5
}
